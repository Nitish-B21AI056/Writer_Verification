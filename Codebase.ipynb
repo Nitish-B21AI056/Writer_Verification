{
  "nbformat": 4,
  "nbformat_minor": 0,
  "metadata": {
    "colab": {
      "provenance": [],
      "gpuType": "T4"
    },
    "kernelspec": {
      "name": "python3",
      "display_name": "Python 3"
    },
    "language_info": {
      "name": "python"
    },
    "accelerator": "GPU"
  },
  "cells": [
    {
      "cell_type": "markdown",
      "source": [
        "# Importing Libraries"
      ],
      "metadata": {
        "id": "NlkJQdcy-f4P"
      }
    },
    {
      "cell_type": "code",
      "execution_count": 30,
      "metadata": {
        "id": "3gVfxcgacxC4"
      },
      "outputs": [],
      "source": [
        "import os\n",
        "import random\n",
        "import pandas as pd\n",
        "import numpy as np\n",
        "import matplotlib.pyplot as plt\n",
        "import cv2\n",
        "from torch.utils.data import DataLoader\n",
        "import random\n",
        "from PIL import Image\n",
        "import PIL.ImageOps\n",
        "import torch\n",
        "import torchvision\n",
        "from torchvision import transforms\n",
        "from torch.utils.data import dataloader\n",
        "import torchvision.utils\n",
        "from torch.autograd import Variable\n",
        "import torch.nn as nn\n",
        "from torch import optim\n",
        "import torch.nn.functional as F\n",
        "import torch.optim as optim\n",
        "from torch.optim.lr_scheduler import ExponentialLR\n",
        "from torch.utils.data import DataLoader, Dataset\n",
        "from sklearn.neighbors import KNeighborsClassifier\n",
        "from scipy.spatial.distance import euclidean\n",
        "from sklearn.ensemble import AdaBoostClassifier\n",
        "from sklearn.ensemble import GradientBoostingClassifier\n",
        "from sklearn.neighbors import KNeighborsClassifier\n",
        "import joblib\n",
        "from sklearn.svm import SVC\n",
        "from sklearn.metrics import f1_score, roc_auc_score, accuracy_score"
      ]
    },
    {
      "cell_type": "markdown",
      "source": [
        "# Code for training dataset creation"
      ],
      "metadata": {
        "id": "hh46CSSEnK9J"
      }
    },
    {
      "cell_type": "code",
      "source": [
        "def split_pairs_by_writer_folders(data_folder):\n",
        "    writer_folders = os.listdir(data_folder)\n",
        "    similar_pairs = []\n",
        "    dissimilar_pairs = []\n",
        "\n",
        "    for folder in writer_folders:\n",
        "        folder_path = os.path.join(data_folder, folder)\n",
        "        images = os.listdir(folder_path)\n",
        "\n",
        "        # Generate all possible pairs of images within the folder\n",
        "        image_pairs = [(os.path.join(folder_path, images[i]), os.path.join(folder_path, images[j])) for i in range(len(images)) for j in range(i + 1, len(images))]\n",
        "\n",
        "        # Shuffle the pairs randomly\n",
        "        random.shuffle(image_pairs)\n",
        "\n",
        "        # Select 6 random similar pairs and assign label 1\n",
        "        similar_pairs.extend([(image1_path, image2_path, 1) for image1_path, image2_path in image_pairs[:6]])\n",
        "\n",
        "        # Select 6 random dissimilar pairs from different writer folders and assign label 0\n",
        "        other_writer_folders = writer_folders.copy()\n",
        "        other_writer_folders.remove(folder)\n",
        "\n",
        "        for _ in range(6):\n",
        "            random_writer_folder = random.choice(other_writer_folders)\n",
        "            other_writer_folders.remove(random_writer_folder)\n",
        "\n",
        "            other_folder_path = os.path.join(data_folder, random_writer_folder)\n",
        "            other_images = os.listdir(other_folder_path)\n",
        "            random_image = random.choice(other_images)\n",
        "\n",
        "            dissimilar_pairs.append((os.path.join(folder_path, random.choice(images)), os.path.join(other_folder_path, random_image), 0))\n",
        "\n",
        "    return similar_pairs, dissimilar_pairs\n",
        "\n",
        "\n",
        "data_folder = '/content/drive/MyDrive/dataset/train'\n",
        "\n",
        "similar_pairs, dissimilar_pairs = split_pairs_by_writer_folders(data_folder)\n",
        "\n",
        "print(f\"Number of similar writer pairs: {len(similar_pairs)}\")\n",
        "print(f\"Number of dissimilar writer pairs: {len(dissimilar_pairs)}\")\n"
      ],
      "metadata": {
        "colab": {
          "base_uri": "https://localhost:8080/"
        },
        "id": "kwNz8jDQ4Pma",
        "outputId": "48800491-4025-4165-9872-ea84070ea635"
      },
      "execution_count": null,
      "outputs": [
        {
          "output_type": "stream",
          "name": "stdout",
          "text": [
            "Number of similar writer pairs: 8112\n",
            "Number of dissimilar writer pairs: 8112\n"
          ]
        }
      ]
    },
    {
      "cell_type": "code",
      "source": [
        "similar_pairs"
      ],
      "metadata": {
        "id": "tWAyRYSkxTnh"
      },
      "execution_count": null,
      "outputs": []
    },
    {
      "cell_type": "code",
      "source": [
        "dissimilar_pairs"
      ],
      "metadata": {
        "id": "F0D4lOLYzp_I"
      },
      "execution_count": null,
      "outputs": []
    },
    {
      "cell_type": "code",
      "source": [
        "pairs=[]\n",
        "pairs.extend(similar_pairs)\n",
        "pairs.extend(dissimilar_pairs)\n",
        "pairs"
      ],
      "metadata": {
        "id": "RmPmAhNX1B9A"
      },
      "execution_count": null,
      "outputs": []
    },
    {
      "cell_type": "code",
      "source": [
        "len(pairs)"
      ],
      "metadata": {
        "colab": {
          "base_uri": "https://localhost:8080/"
        },
        "id": "YJVrUwhZxwwY",
        "outputId": "906587ca-4de1-4bed-946a-714bc33d1779"
      },
      "execution_count": null,
      "outputs": [
        {
          "output_type": "execute_result",
          "data": {
            "text/plain": [
              "16224"
            ]
          },
          "metadata": {},
          "execution_count": 55
        }
      ]
    },
    {
      "cell_type": "code",
      "source": [
        "df = pd.DataFrame(pairs, columns=['image1_path', 'image2_path', 'label'])"
      ],
      "metadata": {
        "id": "6f2gIm6cyKTe"
      },
      "execution_count": null,
      "outputs": []
    },
    {
      "cell_type": "code",
      "source": [
        "df.head()"
      ],
      "metadata": {
        "colab": {
          "base_uri": "https://localhost:8080/",
          "height": 270
        },
        "id": "YqYBNUpnymIN",
        "outputId": "5a84e8f8-629c-4d73-8d44-38a4242274ee"
      },
      "execution_count": null,
      "outputs": [
        {
          "output_type": "execute_result",
          "data": {
            "text/plain": [
              "                                         image1_path  \\\n",
              "0  /content/drive/MyDrive/dataset/train/P2253/B3.jpg   \n",
              "1  /content/drive/MyDrive/dataset/train/P2253/B1.jpg   \n",
              "2  /content/drive/MyDrive/dataset/train/P2253/B2.jpg   \n",
              "3  /content/drive/MyDrive/dataset/train/P2253/B2.jpg   \n",
              "4  /content/drive/MyDrive/dataset/train/P2253/B1.jpg   \n",
              "\n",
              "                                         image2_path  label  \n",
              "0  /content/drive/MyDrive/dataset/train/P2253/B0.jpg      1  \n",
              "1  /content/drive/MyDrive/dataset/train/P2253/B3.jpg      1  \n",
              "2  /content/drive/MyDrive/dataset/train/P2253/B3.jpg      1  \n",
              "3  /content/drive/MyDrive/dataset/train/P2253/B0.jpg      1  \n",
              "4  /content/drive/MyDrive/dataset/train/P2253/B0.jpg      1  "
            ],
            "text/html": [
              "\n",
              "  <div id=\"df-d8d62895-4ab3-4b9a-b82d-69eb3fe770e9\">\n",
              "    <div class=\"colab-df-container\">\n",
              "      <div>\n",
              "<style scoped>\n",
              "    .dataframe tbody tr th:only-of-type {\n",
              "        vertical-align: middle;\n",
              "    }\n",
              "\n",
              "    .dataframe tbody tr th {\n",
              "        vertical-align: top;\n",
              "    }\n",
              "\n",
              "    .dataframe thead th {\n",
              "        text-align: right;\n",
              "    }\n",
              "</style>\n",
              "<table border=\"1\" class=\"dataframe\">\n",
              "  <thead>\n",
              "    <tr style=\"text-align: right;\">\n",
              "      <th></th>\n",
              "      <th>image1_path</th>\n",
              "      <th>image2_path</th>\n",
              "      <th>label</th>\n",
              "    </tr>\n",
              "  </thead>\n",
              "  <tbody>\n",
              "    <tr>\n",
              "      <th>0</th>\n",
              "      <td>/content/drive/MyDrive/dataset/train/P2253/B3.jpg</td>\n",
              "      <td>/content/drive/MyDrive/dataset/train/P2253/B0.jpg</td>\n",
              "      <td>1</td>\n",
              "    </tr>\n",
              "    <tr>\n",
              "      <th>1</th>\n",
              "      <td>/content/drive/MyDrive/dataset/train/P2253/B1.jpg</td>\n",
              "      <td>/content/drive/MyDrive/dataset/train/P2253/B3.jpg</td>\n",
              "      <td>1</td>\n",
              "    </tr>\n",
              "    <tr>\n",
              "      <th>2</th>\n",
              "      <td>/content/drive/MyDrive/dataset/train/P2253/B2.jpg</td>\n",
              "      <td>/content/drive/MyDrive/dataset/train/P2253/B3.jpg</td>\n",
              "      <td>1</td>\n",
              "    </tr>\n",
              "    <tr>\n",
              "      <th>3</th>\n",
              "      <td>/content/drive/MyDrive/dataset/train/P2253/B2.jpg</td>\n",
              "      <td>/content/drive/MyDrive/dataset/train/P2253/B0.jpg</td>\n",
              "      <td>1</td>\n",
              "    </tr>\n",
              "    <tr>\n",
              "      <th>4</th>\n",
              "      <td>/content/drive/MyDrive/dataset/train/P2253/B1.jpg</td>\n",
              "      <td>/content/drive/MyDrive/dataset/train/P2253/B0.jpg</td>\n",
              "      <td>1</td>\n",
              "    </tr>\n",
              "  </tbody>\n",
              "</table>\n",
              "</div>\n",
              "      <button class=\"colab-df-convert\" onclick=\"convertToInteractive('df-d8d62895-4ab3-4b9a-b82d-69eb3fe770e9')\"\n",
              "              title=\"Convert this dataframe to an interactive table.\"\n",
              "              style=\"display:none;\">\n",
              "        \n",
              "  <svg xmlns=\"http://www.w3.org/2000/svg\" height=\"24px\"viewBox=\"0 0 24 24\"\n",
              "       width=\"24px\">\n",
              "    <path d=\"M0 0h24v24H0V0z\" fill=\"none\"/>\n",
              "    <path d=\"M18.56 5.44l.94 2.06.94-2.06 2.06-.94-2.06-.94-.94-2.06-.94 2.06-2.06.94zm-11 1L8.5 8.5l.94-2.06 2.06-.94-2.06-.94L8.5 2.5l-.94 2.06-2.06.94zm10 10l.94 2.06.94-2.06 2.06-.94-2.06-.94-.94-2.06-.94 2.06-2.06.94z\"/><path d=\"M17.41 7.96l-1.37-1.37c-.4-.4-.92-.59-1.43-.59-.52 0-1.04.2-1.43.59L10.3 9.45l-7.72 7.72c-.78.78-.78 2.05 0 2.83L4 21.41c.39.39.9.59 1.41.59.51 0 1.02-.2 1.41-.59l7.78-7.78 2.81-2.81c.8-.78.8-2.07 0-2.86zM5.41 20L4 18.59l7.72-7.72 1.47 1.35L5.41 20z\"/>\n",
              "  </svg>\n",
              "      </button>\n",
              "      \n",
              "  <style>\n",
              "    .colab-df-container {\n",
              "      display:flex;\n",
              "      flex-wrap:wrap;\n",
              "      gap: 12px;\n",
              "    }\n",
              "\n",
              "    .colab-df-convert {\n",
              "      background-color: #E8F0FE;\n",
              "      border: none;\n",
              "      border-radius: 50%;\n",
              "      cursor: pointer;\n",
              "      display: none;\n",
              "      fill: #1967D2;\n",
              "      height: 32px;\n",
              "      padding: 0 0 0 0;\n",
              "      width: 32px;\n",
              "    }\n",
              "\n",
              "    .colab-df-convert:hover {\n",
              "      background-color: #E2EBFA;\n",
              "      box-shadow: 0px 1px 2px rgba(60, 64, 67, 0.3), 0px 1px 3px 1px rgba(60, 64, 67, 0.15);\n",
              "      fill: #174EA6;\n",
              "    }\n",
              "\n",
              "    [theme=dark] .colab-df-convert {\n",
              "      background-color: #3B4455;\n",
              "      fill: #D2E3FC;\n",
              "    }\n",
              "\n",
              "    [theme=dark] .colab-df-convert:hover {\n",
              "      background-color: #434B5C;\n",
              "      box-shadow: 0px 1px 3px 1px rgba(0, 0, 0, 0.15);\n",
              "      filter: drop-shadow(0px 1px 2px rgba(0, 0, 0, 0.3));\n",
              "      fill: #FFFFFF;\n",
              "    }\n",
              "  </style>\n",
              "\n",
              "      <script>\n",
              "        const buttonEl =\n",
              "          document.querySelector('#df-d8d62895-4ab3-4b9a-b82d-69eb3fe770e9 button.colab-df-convert');\n",
              "        buttonEl.style.display =\n",
              "          google.colab.kernel.accessAllowed ? 'block' : 'none';\n",
              "\n",
              "        async function convertToInteractive(key) {\n",
              "          const element = document.querySelector('#df-d8d62895-4ab3-4b9a-b82d-69eb3fe770e9');\n",
              "          const dataTable =\n",
              "            await google.colab.kernel.invokeFunction('convertToInteractive',\n",
              "                                                     [key], {});\n",
              "          if (!dataTable) return;\n",
              "\n",
              "          const docLinkHtml = 'Like what you see? Visit the ' +\n",
              "            '<a target=\"_blank\" href=https://colab.research.google.com/notebooks/data_table.ipynb>data table notebook</a>'\n",
              "            + ' to learn more about interactive tables.';\n",
              "          element.innerHTML = '';\n",
              "          dataTable['output_type'] = 'display_data';\n",
              "          await google.colab.output.renderOutput(dataTable, element);\n",
              "          const docLink = document.createElement('div');\n",
              "          docLink.innerHTML = docLinkHtml;\n",
              "          element.appendChild(docLink);\n",
              "        }\n",
              "      </script>\n",
              "    </div>\n",
              "  </div>\n",
              "  "
            ]
          },
          "metadata": {},
          "execution_count": 57
        }
      ]
    },
    {
      "cell_type": "code",
      "source": [
        "df.info()"
      ],
      "metadata": {
        "colab": {
          "base_uri": "https://localhost:8080/"
        },
        "id": "3qMZ5uxazEMP",
        "outputId": "ab4184dc-17d0-467c-d657-e085a0b8eda9"
      },
      "execution_count": null,
      "outputs": [
        {
          "output_type": "stream",
          "name": "stdout",
          "text": [
            "<class 'pandas.core.frame.DataFrame'>\n",
            "RangeIndex: 16224 entries, 0 to 16223\n",
            "Data columns (total 3 columns):\n",
            " #   Column       Non-Null Count  Dtype \n",
            "---  ------       --------------  ----- \n",
            " 0   image1_path  16224 non-null  object\n",
            " 1   image2_path  16224 non-null  object\n",
            " 2   label        16224 non-null  int64 \n",
            "dtypes: int64(1), object(2)\n",
            "memory usage: 380.4+ KB\n"
          ]
        }
      ]
    },
    {
      "cell_type": "code",
      "source": [
        "# Shuffle the samples in the DataFrame\n",
        "shuffled_df = df.sample(frac=1).reset_index(drop=True)"
      ],
      "metadata": {
        "id": "ZqNa_bmWzc2h"
      },
      "execution_count": null,
      "outputs": []
    },
    {
      "cell_type": "code",
      "source": [
        "data=shuffled_df.copy()"
      ],
      "metadata": {
        "id": "RVrQLg5Dz1lE"
      },
      "execution_count": null,
      "outputs": []
    },
    {
      "cell_type": "code",
      "source": [
        "data.to_csv(\"/content/drive/MyDrive/dataset/Training_Dataset.csv\",index=False)"
      ],
      "metadata": {
        "id": "yrZEx7s3z-Fc"
      },
      "execution_count": null,
      "outputs": []
    },
    {
      "cell_type": "markdown",
      "source": [
        "# Loading Training Dataset"
      ],
      "metadata": {
        "id": "0hMN0GuG_ikO"
      }
    },
    {
      "cell_type": "code",
      "execution_count": 5,
      "metadata": {
        "id": "d_aPz20lc9mi"
      },
      "outputs": [],
      "source": [
        "data=pd.read_csv(\"/content/drive/MyDrive/dataset/Training_Dataset.csv\")"
      ]
    },
    {
      "cell_type": "code",
      "execution_count": 6,
      "metadata": {
        "colab": {
          "base_uri": "https://localhost:8080/",
          "height": 206
        },
        "id": "x6yUa4FCdEel",
        "outputId": "481f5d91-7147-4624-c74b-511d51bfad9b"
      },
      "outputs": [
        {
          "output_type": "execute_result",
          "data": {
            "text/plain": [
              "                                         image1_path  \\\n",
              "0   /content/drive/MyDrive/dataset/train/P157/B4.jpg   \n",
              "1  /content/drive/MyDrive/dataset/train/P1683/B0.jpg   \n",
              "2  /content/drive/MyDrive/dataset/train/P1916/B2.jpg   \n",
              "3   /content/drive/MyDrive/dataset/train/P758/B4.jpg   \n",
              "4   /content/drive/MyDrive/dataset/train/P226/B2.jpg   \n",
              "\n",
              "                                         image2_path  label  \n",
              "0  /content/drive/MyDrive/dataset/train/P1263/B1.jpg      0  \n",
              "1  /content/drive/MyDrive/dataset/train/P1683/B6.jpg      1  \n",
              "2  /content/drive/MyDrive/dataset/train/P1916/B0.jpg      1  \n",
              "3   /content/drive/MyDrive/dataset/train/P758/A1.jpg      1  \n",
              "4   /content/drive/MyDrive/dataset/train/P226/A2.jpg      1  "
            ],
            "text/html": [
              "\n",
              "  <div id=\"df-0547bc13-515a-49c0-b91d-78f3018990f3\">\n",
              "    <div class=\"colab-df-container\">\n",
              "      <div>\n",
              "<style scoped>\n",
              "    .dataframe tbody tr th:only-of-type {\n",
              "        vertical-align: middle;\n",
              "    }\n",
              "\n",
              "    .dataframe tbody tr th {\n",
              "        vertical-align: top;\n",
              "    }\n",
              "\n",
              "    .dataframe thead th {\n",
              "        text-align: right;\n",
              "    }\n",
              "</style>\n",
              "<table border=\"1\" class=\"dataframe\">\n",
              "  <thead>\n",
              "    <tr style=\"text-align: right;\">\n",
              "      <th></th>\n",
              "      <th>image1_path</th>\n",
              "      <th>image2_path</th>\n",
              "      <th>label</th>\n",
              "    </tr>\n",
              "  </thead>\n",
              "  <tbody>\n",
              "    <tr>\n",
              "      <th>0</th>\n",
              "      <td>/content/drive/MyDrive/dataset/train/P157/B4.jpg</td>\n",
              "      <td>/content/drive/MyDrive/dataset/train/P1263/B1.jpg</td>\n",
              "      <td>0</td>\n",
              "    </tr>\n",
              "    <tr>\n",
              "      <th>1</th>\n",
              "      <td>/content/drive/MyDrive/dataset/train/P1683/B0.jpg</td>\n",
              "      <td>/content/drive/MyDrive/dataset/train/P1683/B6.jpg</td>\n",
              "      <td>1</td>\n",
              "    </tr>\n",
              "    <tr>\n",
              "      <th>2</th>\n",
              "      <td>/content/drive/MyDrive/dataset/train/P1916/B2.jpg</td>\n",
              "      <td>/content/drive/MyDrive/dataset/train/P1916/B0.jpg</td>\n",
              "      <td>1</td>\n",
              "    </tr>\n",
              "    <tr>\n",
              "      <th>3</th>\n",
              "      <td>/content/drive/MyDrive/dataset/train/P758/B4.jpg</td>\n",
              "      <td>/content/drive/MyDrive/dataset/train/P758/A1.jpg</td>\n",
              "      <td>1</td>\n",
              "    </tr>\n",
              "    <tr>\n",
              "      <th>4</th>\n",
              "      <td>/content/drive/MyDrive/dataset/train/P226/B2.jpg</td>\n",
              "      <td>/content/drive/MyDrive/dataset/train/P226/A2.jpg</td>\n",
              "      <td>1</td>\n",
              "    </tr>\n",
              "  </tbody>\n",
              "</table>\n",
              "</div>\n",
              "      <button class=\"colab-df-convert\" onclick=\"convertToInteractive('df-0547bc13-515a-49c0-b91d-78f3018990f3')\"\n",
              "              title=\"Convert this dataframe to an interactive table.\"\n",
              "              style=\"display:none;\">\n",
              "        \n",
              "  <svg xmlns=\"http://www.w3.org/2000/svg\" height=\"24px\"viewBox=\"0 0 24 24\"\n",
              "       width=\"24px\">\n",
              "    <path d=\"M0 0h24v24H0V0z\" fill=\"none\"/>\n",
              "    <path d=\"M18.56 5.44l.94 2.06.94-2.06 2.06-.94-2.06-.94-.94-2.06-.94 2.06-2.06.94zm-11 1L8.5 8.5l.94-2.06 2.06-.94-2.06-.94L8.5 2.5l-.94 2.06-2.06.94zm10 10l.94 2.06.94-2.06 2.06-.94-2.06-.94-.94-2.06-.94 2.06-2.06.94z\"/><path d=\"M17.41 7.96l-1.37-1.37c-.4-.4-.92-.59-1.43-.59-.52 0-1.04.2-1.43.59L10.3 9.45l-7.72 7.72c-.78.78-.78 2.05 0 2.83L4 21.41c.39.39.9.59 1.41.59.51 0 1.02-.2 1.41-.59l7.78-7.78 2.81-2.81c.8-.78.8-2.07 0-2.86zM5.41 20L4 18.59l7.72-7.72 1.47 1.35L5.41 20z\"/>\n",
              "  </svg>\n",
              "      </button>\n",
              "      \n",
              "  <style>\n",
              "    .colab-df-container {\n",
              "      display:flex;\n",
              "      flex-wrap:wrap;\n",
              "      gap: 12px;\n",
              "    }\n",
              "\n",
              "    .colab-df-convert {\n",
              "      background-color: #E8F0FE;\n",
              "      border: none;\n",
              "      border-radius: 50%;\n",
              "      cursor: pointer;\n",
              "      display: none;\n",
              "      fill: #1967D2;\n",
              "      height: 32px;\n",
              "      padding: 0 0 0 0;\n",
              "      width: 32px;\n",
              "    }\n",
              "\n",
              "    .colab-df-convert:hover {\n",
              "      background-color: #E2EBFA;\n",
              "      box-shadow: 0px 1px 2px rgba(60, 64, 67, 0.3), 0px 1px 3px 1px rgba(60, 64, 67, 0.15);\n",
              "      fill: #174EA6;\n",
              "    }\n",
              "\n",
              "    [theme=dark] .colab-df-convert {\n",
              "      background-color: #3B4455;\n",
              "      fill: #D2E3FC;\n",
              "    }\n",
              "\n",
              "    [theme=dark] .colab-df-convert:hover {\n",
              "      background-color: #434B5C;\n",
              "      box-shadow: 0px 1px 3px 1px rgba(0, 0, 0, 0.15);\n",
              "      filter: drop-shadow(0px 1px 2px rgba(0, 0, 0, 0.3));\n",
              "      fill: #FFFFFF;\n",
              "    }\n",
              "  </style>\n",
              "\n",
              "      <script>\n",
              "        const buttonEl =\n",
              "          document.querySelector('#df-0547bc13-515a-49c0-b91d-78f3018990f3 button.colab-df-convert');\n",
              "        buttonEl.style.display =\n",
              "          google.colab.kernel.accessAllowed ? 'block' : 'none';\n",
              "\n",
              "        async function convertToInteractive(key) {\n",
              "          const element = document.querySelector('#df-0547bc13-515a-49c0-b91d-78f3018990f3');\n",
              "          const dataTable =\n",
              "            await google.colab.kernel.invokeFunction('convertToInteractive',\n",
              "                                                     [key], {});\n",
              "          if (!dataTable) return;\n",
              "\n",
              "          const docLinkHtml = 'Like what you see? Visit the ' +\n",
              "            '<a target=\"_blank\" href=https://colab.research.google.com/notebooks/data_table.ipynb>data table notebook</a>'\n",
              "            + ' to learn more about interactive tables.';\n",
              "          element.innerHTML = '';\n",
              "          dataTable['output_type'] = 'display_data';\n",
              "          await google.colab.output.renderOutput(dataTable, element);\n",
              "          const docLink = document.createElement('div');\n",
              "          docLink.innerHTML = docLinkHtml;\n",
              "          element.appendChild(docLink);\n",
              "        }\n",
              "      </script>\n",
              "    </div>\n",
              "  </div>\n",
              "  "
            ]
          },
          "metadata": {},
          "execution_count": 6
        }
      ],
      "source": [
        "data.head(5)"
      ]
    },
    {
      "cell_type": "markdown",
      "source": [
        "# Building Siamese Network Architecture"
      ],
      "metadata": {
        "id": "vfgWH8Xs_71D"
      }
    },
    {
      "cell_type": "code",
      "execution_count": 7,
      "metadata": {
        "id": "oLE4fDUEdjtq"
      },
      "outputs": [],
      "source": [
        "class SiameseNetwork(nn.Module):\n",
        "  def __init__(self):\n",
        "    super(SiameseNetwork, self).__init__()\n",
        "\n",
        "    self.conv1 = nn.Conv2d(in_channels=1, out_channels=96, kernel_size=11, stride=1)\n",
        "    self.bn1 = nn.BatchNorm2d(num_features=96)\n",
        "    self.maxpool1 = nn.MaxPool2d(kernel_size=3,stride= 2)\n",
        "    self.conv2 = nn.Conv2d(in_channels=96, out_channels=256, kernel_size=5, stride=1, padding=2)\n",
        "    self.bn2 = nn.BatchNorm2d(num_features=256)\n",
        "    self.maxpool2 = nn.MaxPool2d(kernel_size=3, stride=2)\n",
        "    self.dropout1 = nn.Dropout(p=0.3)\n",
        "    self.conv3 = nn.Conv2d(in_channels=256, out_channels=384, kernel_size=3, stride=1, padding=1)\n",
        "    self.conv4 = nn.Conv2d(in_channels=384, out_channels=256, kernel_size=3, stride=1, padding=1)\n",
        "    self.maxpool3 = nn.MaxPool2d(kernel_size=3, stride=2)\n",
        "    self.dropout2 = nn.Dropout(p=0.3)\n",
        "    self.fc1= nn.Linear(in_features=108800, out_features=1024)\n",
        "    self.dropout3 = nn.Dropout(p=0.5)\n",
        "    self.fc2= nn.Linear(in_features=1024,out_features=128)\n",
        "    self.relu = nn.ReLU(inplace = True)\n",
        "\n",
        "  def forward(self, x1, x2):\n",
        "    x1 = self.conv1(x1)\n",
        "    x1 = self.relu(x1)\n",
        "    x1 = self.bn1(x1)\n",
        "    x1 = self.maxpool1(x1)\n",
        "    x1 = self.conv2(x1)\n",
        "    x1 = self.relu(x1)\n",
        "    x1 = self.bn2(x1)\n",
        "    x1 = self.maxpool2(x1)\n",
        "    x1 = self.dropout1(x1)\n",
        "    x1 = self.conv3(x1)\n",
        "    x1 = self.relu(x1)\n",
        "    x1 = self.conv4(x1)\n",
        "    x1 = self.relu(x1)\n",
        "    x1 = self.maxpool3(x1)\n",
        "    x1 = self.dropout2(x1)\n",
        "    x1 = x1.view(x1.size()[0],-1)\n",
        "    x1 = self.fc1(x1)\n",
        "    x1 = self.relu(x1)\n",
        "    x1 = self.dropout3(x1)\n",
        "    x1 = self.fc2(x1)\n",
        "\n",
        "    x2 = self.conv1(x2)\n",
        "    x2 = self.relu(x2)\n",
        "    x2 = self.bn1(x2)\n",
        "    x2 = self.maxpool1(x2)\n",
        "    x2 = self.conv2(x2)\n",
        "    x2 = self.relu(x2)\n",
        "    x2 = self.bn2(x2)\n",
        "    x2 = self.maxpool2(x2)\n",
        "    x2 = self.dropout1(x2)\n",
        "    x2 = self.conv3(x2)\n",
        "    x2 = self.relu(x2)\n",
        "    x2 = self.conv4(x2)\n",
        "    x2 = self.relu(x2)\n",
        "    x2 = self.maxpool3(x2)\n",
        "    x2 = self.dropout2(x2)\n",
        "    x2 = x2.view(x2.size()[0],-1)\n",
        "    x2 = self.fc1(x2)\n",
        "    x2 = self.relu(x2)\n",
        "    x2 = self.dropout3(x2)\n",
        "    x2 = self.fc2(x2)\n",
        "    return x1, x2\n",
        "\n",
        "\n"
      ]
    },
    {
      "cell_type": "markdown",
      "source": [
        "# Contrastive Loss Function"
      ],
      "metadata": {
        "id": "jrlliif2AK-x"
      }
    },
    {
      "cell_type": "code",
      "execution_count": 8,
      "metadata": {
        "id": "i6i4Ovtb3dmp"
      },
      "outputs": [],
      "source": [
        "class ContrastiveLoss(nn.Module):\n",
        "    \"Contrastive loss function\"\n",
        "\n",
        "    def __init__(self, margin=1.0, constant1=1, constant2=2):\n",
        "        super(ContrastiveLoss, self).__init__()\n",
        "        self.margin = margin\n",
        "        self.constant1 = torch.tensor(constant1, dtype=torch.float32)\n",
        "        self.constant2 = torch.tensor(constant2, dtype=torch.float32)\n",
        "\n",
        "    def forward(self, output1, output2, label):\n",
        "        euclidean_distance = F.pairwise_distance(output1, output2, p=2)\n",
        "        loss_contrastive = torch.mean(\n",
        "            (label) * self.constant1 * torch.pow(euclidean_distance, 2)\n",
        "            + (1 - label) * self.constant2\n",
        "            * torch.pow(torch.clamp(self.margin - euclidean_distance, min=0.0), 2)\n",
        "        )\n",
        "\n",
        "        return loss_contrastive\n"
      ]
    },
    {
      "cell_type": "markdown",
      "source": [
        "# Creating DataLoader for training and validation"
      ],
      "metadata": {
        "id": "TRvl9CIkAhE-"
      }
    },
    {
      "cell_type": "code",
      "execution_count": 9,
      "metadata": {
        "id": "bYhpTEho4cvZ"
      },
      "outputs": [],
      "source": [
        "from torchvision.transforms import ToTensor\n",
        "\n",
        "class SiameseDataset(Dataset):\n",
        "    def __init__(self, df, transform=None):\n",
        "        self.df = df\n",
        "        self.transform = transform\n",
        "\n",
        "    def __len__(self):\n",
        "        return len(self.df)\n",
        "\n",
        "    def __getitem__(self, idx):\n",
        "        # Load the image using OpenCV\n",
        "        image1 = Image.open(self.df.iloc[idx, 0])\n",
        "        image2 = Image.open(self.df.iloc[idx, 1])\n",
        "\n",
        "        # Apply the transformation pipeline if provided\n",
        "        if self.transform is not None:\n",
        "            image1 = self.transform(image1)\n",
        "            image2 = self.transform(image2)\n",
        "\n",
        "        label = self.df.iloc[idx, 2]\n",
        "\n",
        "        return image1, image2, torch.tensor(label, dtype=torch.float32)"
      ]
    },
    {
      "cell_type": "code",
      "execution_count": 10,
      "metadata": {
        "id": "i4puoAr75GXU"
      },
      "outputs": [],
      "source": [
        "transform=transforms.Compose(\n",
        "        [transforms.Resize((155, 220)), transforms.ToTensor()])"
      ]
    },
    {
      "cell_type": "code",
      "execution_count": 11,
      "metadata": {
        "id": "ezdZh5D_45S-"
      },
      "outputs": [],
      "source": [
        " # Load the dataset as pytorch tensors using dataloader\n",
        "train_dataloader = DataLoader(SiameseDataset(data.iloc[0:1600, :], transform=transform),\n",
        "                        shuffle=True,\n",
        "                        num_workers=2,\n",
        "                        batch_size=32)"
      ]
    },
    {
      "cell_type": "code",
      "execution_count": 12,
      "metadata": {
        "id": "1r0E44k445M1"
      },
      "outputs": [],
      "source": [
        " # Load the dataset as pytorch tensors using dataloader\n",
        "eval_dataloader = DataLoader(SiameseDataset(data.iloc[16000:, :], transform=transform),\n",
        "                        shuffle=True,\n",
        "                        num_workers=2,\n",
        "                        batch_size=32)"
      ]
    },
    {
      "cell_type": "markdown",
      "source": [
        "# Code for training"
      ],
      "metadata": {
        "id": "4NDQiPbuAsoh"
      }
    },
    {
      "cell_type": "code",
      "execution_count": null,
      "metadata": {
        "id": "3WLnxTjhGb21"
      },
      "outputs": [],
      "source": [
        "# Declare Siamese Network\n",
        "net = SiameseNetwork().cuda()\n",
        "\n",
        "# Declare Loss Function\n",
        "criterion = ContrastiveLoss()\n",
        "\n",
        "# Declare Optimizer\n",
        "optimizer = torch.optim.Adam(net.parameters(), lr = 1e-4, weight_decay=0.0005)\n",
        "scheduler = ExponentialLR(optimizer, gamma=0.9)\n"
      ]
    },
    {
      "cell_type": "code",
      "execution_count": null,
      "metadata": {
        "colab": {
          "base_uri": "https://localhost:8080/"
        },
        "id": "Ql9eZHjNHn5m",
        "outputId": "cef4a5f5-4990-4614-8177-8d3d0d0d9286"
      },
      "outputs": [
        {
          "output_type": "stream",
          "name": "stdout",
          "text": [
            "Epoch: 1\n",
            "Training loss0.019789148271083832\n",
            "----------\n",
            "Eval loss0.04348583519458771\n",
            "----------\n",
            "Best Eval loss0.04348583519458771\n",
            "Model Saved Successfully\n",
            "Epoch: 2\n",
            "Training loss0.006260537838935852\n",
            "----------\n",
            "Eval loss0.04494762663938561\n",
            "Epoch: 3\n",
            "Training loss0.005789901465177536\n",
            "----------\n",
            "Eval loss0.042307372604097636\n",
            "----------\n",
            "Best Eval loss0.042307372604097636\n",
            "Model Saved Successfully\n",
            "Epoch: 4\n",
            "Training loss0.005672789859771729\n",
            "----------\n",
            "Eval loss0.04802228054221796\n",
            "Epoch: 5\n",
            "Training loss0.0058479070305824275\n",
            "----------\n",
            "Eval loss0.04116677872988643\n",
            "----------\n",
            "Best Eval loss0.04116677872988643\n",
            "Model Saved Successfully\n",
            "Epoch: 6\n",
            "Training loss0.005456354421377182\n",
            "----------\n",
            "Eval loss0.04117057943830684\n",
            "Epoch: 7\n",
            "Training loss0.005560175913572312\n",
            "----------\n",
            "Eval loss0.04265817330808056\n",
            "Epoch: 8\n",
            "Training loss0.005560464972257614\n",
            "----------\n",
            "Eval loss0.04127661670957293\n",
            "Epoch: 9\n",
            "Training loss0.005092498219013214\n",
            "----------\n",
            "Eval loss0.04192100556529298\n",
            "Epoch: 10\n",
            "Training loss0.005127913582324982\n",
            "----------\n",
            "Eval loss0.04145471234710849\n",
            "Epoch: 11\n",
            "Training loss0.004906721276044845\n",
            "----------\n",
            "Eval loss0.041412223662648885\n",
            "Epoch: 12\n",
            "Training loss0.004895023334026336\n",
            "----------\n",
            "Eval loss0.03970203259769751\n",
            "----------\n",
            "Best Eval loss0.03970203259769751\n",
            "Model Saved Successfully\n",
            "Epoch: 13\n",
            "Training loss0.004605461996793747\n",
            "----------\n",
            "Eval loss0.04084766276028691\n",
            "Epoch: 14\n",
            "Training loss0.004454688084125519\n",
            "----------\n",
            "Eval loss0.04142710627341757\n",
            "Epoch: 15\n",
            "Training loss0.004297144275903702\n",
            "----------\n",
            "Eval loss0.04021159665925162\n",
            "Epoch: 16\n",
            "Training loss0.004101952087879181\n",
            "----------\n",
            "Eval loss0.04212029977720611\n",
            "Epoch: 17\n",
            "Training loss0.004020382106304169\n",
            "----------\n",
            "Eval loss0.042121988778211626\n",
            "Epoch: 18\n",
            "Training loss0.0038340224921703334\n",
            "----------\n",
            "Eval loss0.039172024447090774\n",
            "----------\n",
            "Best Eval loss0.039172024447090774\n",
            "Model Saved Successfully\n",
            "Epoch: 19\n",
            "Training loss0.0036811876952648165\n",
            "----------\n",
            "Eval loss0.04294764691469621\n",
            "Epoch: 20\n",
            "Training loss0.0035860455721616748\n",
            "----------\n",
            "Eval loss0.04401149980875911\n",
            "Epoch: 21\n",
            "Training loss0.0035183318436145783\n",
            "----------\n",
            "Eval loss0.04353778216303611\n",
            "Epoch: 22\n",
            "Training loss0.0034880258142948152\n",
            "----------\n",
            "Eval loss0.04405134368915947\n",
            "Epoch: 23\n",
            "Training loss0.003422805666923523\n",
            "----------\n",
            "Eval loss0.04172839771728126\n",
            "Epoch: 24\n",
            "Training loss0.0032312331408262253\n",
            "----------\n",
            "Eval loss0.0458801802323789\n",
            "Epoch: 25\n",
            "Training loss0.00316269563138485\n",
            "----------\n",
            "Eval loss0.04756271413394383\n",
            "Epoch: 26\n",
            "Training loss0.0030538840025663375\n",
            "----------\n",
            "Eval loss0.044770149552092256\n",
            "Epoch: 27\n",
            "Training loss0.003009901607036591\n",
            "----------\n",
            "Eval loss0.04631551431149853\n",
            "Epoch: 28\n",
            "Training loss0.003072167494893074\n",
            "----------\n",
            "Eval loss0.043786661965506415\n",
            "Epoch: 29\n",
            "Training loss0.00282572922706604\n",
            "----------\n",
            "Eval loss0.04792904063146942\n"
          ]
        }
      ],
      "source": [
        "def train(train_dataloader):\n",
        "    loss=[]\n",
        "    counter=[]\n",
        "    iteration_number = 0\n",
        "    for i, data in enumerate(train_dataloader,0):\n",
        "      img0, img1 , label = data\n",
        "      img0, img1 , label = img0.cuda(), img1.cuda() , label.cuda()\n",
        "      optimizer.zero_grad()\n",
        "      output1,output2 = net(img0,img1)\n",
        "      loss_contrastive = criterion(output1,output2,label)\n",
        "      loss_contrastive.backward()\n",
        "      optimizer.step()\n",
        "      loss.append(loss_contrastive.item())\n",
        "    loss = np.array(loss)\n",
        "    return loss.mean()/len(train_dataloader)\n",
        "\n",
        "\n",
        "def eval(eval_dataloader):\n",
        "    loss=[]\n",
        "    counter=[]\n",
        "    iteration_number = 0\n",
        "    for i, data in enumerate(eval_dataloader,0):\n",
        "      img0, img1 , label = data\n",
        "      img0, img1 , label = img0.cuda(), img1.cuda() , label.cuda()\n",
        "      output1,output2 = net(img0,img1)\n",
        "      loss_contrastive = criterion(output1,output2,label)\n",
        "      loss.append(loss_contrastive.item())\n",
        "    loss = np.array(loss)\n",
        "    return loss.mean()/len(eval_dataloader)\n",
        "\n",
        "best_eval_loss = 9999\n",
        "for epoch in range(1,30):\n",
        "  train_loss = train(train_dataloader)\n",
        "  eval_loss = eval(eval_dataloader)\n",
        "  print(\"Epoch:\",epoch)\n",
        "  print(f\"Training loss{train_loss}\")\n",
        "  print(\"-\"*10)\n",
        "  print(f\"Eval loss{eval_loss}\")\n",
        "  scheduler.step()\n",
        "\n",
        "  if eval_loss<best_eval_loss:\n",
        "    best_eval_loss = eval_loss\n",
        "    print(\"-\"*10)\n",
        "    print(f\"Best Eval loss{best_eval_loss}\")\n",
        "    torch.save(net.state_dict(), \"/content/drive/MyDrive/dataset/SaraSwati_Writes_Final_Model.pth\")\n",
        "    print(\"Model Saved Successfully\")"
      ]
    },
    {
      "cell_type": "markdown",
      "source": [
        "#Loading the trained siamese network"
      ],
      "metadata": {
        "id": "y2tEnNlsjkV8"
      }
    },
    {
      "cell_type": "code",
      "execution_count": 13,
      "metadata": {
        "id": "GMLn75gKH1O2"
      },
      "outputs": [],
      "source": [
        "device=torch.device('cuda' if torch.cuda.is_available() else 'cpu')"
      ]
    },
    {
      "cell_type": "code",
      "execution_count": 14,
      "metadata": {
        "colab": {
          "base_uri": "https://localhost:8080/"
        },
        "id": "uVqln9f6H37c",
        "outputId": "1c6ce8eb-1c10-49a6-9a14-81b1e474970c"
      },
      "outputs": [
        {
          "output_type": "execute_result",
          "data": {
            "text/plain": [
              "<All keys matched successfully>"
            ]
          },
          "metadata": {},
          "execution_count": 14
        }
      ],
      "source": [
        "net = SiameseNetwork().to(device)\n",
        "\n",
        "# Load the saved state dictionary\n",
        "state_dict = torch.load(\"/content/drive/MyDrive/dataset/SaraSwati_Writes_Final_Model.pth\")\n",
        "\n",
        "# Load the state dictionary into the model\n",
        "net.load_state_dict(state_dict)"
      ]
    },
    {
      "cell_type": "markdown",
      "source": [
        "# Extract output features of the siamese model"
      ],
      "metadata": {
        "id": "StqQYEdfjzPa"
      }
    },
    {
      "cell_type": "code",
      "execution_count": 15,
      "metadata": {
        "id": "ikq67aeAeIiF"
      },
      "outputs": [],
      "source": [
        "def extract_features(model,data):  #type(data)-->Dataframe\n",
        "    model.eval()\n",
        "    features=[]\n",
        "    # Iterate over the rows of the DataFrame starting from index 1600\n",
        "    for sample in data.iloc[:, :].values:\n",
        "        # Load the image using PIL\n",
        "        image1 = Image.open(sample[0])\n",
        "        image2 = Image.open(sample[1])\n",
        "        # Apply the transformation pipeline\n",
        "        transformed_image1 = transform(image1)\n",
        "        transformed_image2 = transform(image2)\n",
        "\n",
        "        # Move the tensors to the appropriate device\n",
        "        transformed_image1 = transformed_image1.to(device)\n",
        "        transformed_image2 = transformed_image2.to(device)\n",
        "\n",
        "        # Add an extra dimension to match the model input shape\n",
        "        transformed_image1 = transformed_image1.unsqueeze(0)\n",
        "        transformed_image2 = transformed_image2.unsqueeze(0)\n",
        "\n",
        "        # Forward pass through the model\n",
        "        with torch.no_grad():\n",
        "            feature=[]\n",
        "            output1, output2= model(transformed_image1, transformed_image2)\n",
        "            output1 = output1/torch.norm(output1)\n",
        "            output2 = output2/torch.norm(output2)\n",
        "            output1 = output1.cpu().numpy()\n",
        "            output2 = output2.cpu().numpy()\n",
        "            feature.append(output1)\n",
        "            feature.append(output2)\n",
        "        features.append(feature)\n",
        "    return features\n"
      ]
    },
    {
      "cell_type": "code",
      "execution_count": 16,
      "metadata": {
        "id": "6XK4jVqkujsG"
      },
      "outputs": [],
      "source": [
        "train_features = extract_features(net,data.iloc[:1600,:])\n",
        "train_labels = data.iloc[:1600,:]['label']"
      ]
    },
    {
      "cell_type": "code",
      "execution_count": 17,
      "metadata": {
        "id": "nEpJOUUIxjMC",
        "colab": {
          "base_uri": "https://localhost:8080/"
        },
        "outputId": "2c6357d7-44fd-4da6-ba48-986bc77a492d"
      },
      "outputs": [
        {
          "output_type": "execute_result",
          "data": {
            "text/plain": [
              "(1600, 2, 1, 128)"
            ]
          },
          "metadata": {},
          "execution_count": 17
        }
      ],
      "source": [
        "np.array(train_features).shape"
      ]
    },
    {
      "cell_type": "code",
      "execution_count": 18,
      "metadata": {
        "id": "ohyFP4SgvUeu"
      },
      "outputs": [],
      "source": [
        "val_data=pd.read_csv(\"/content/drive/MyDrive/dataset/val.csv\")\n",
        "val_data_copy = val_data.copy()\n",
        "\n",
        "# Concatenate string to the start of each value in columns 1 and 2\n",
        "string_to_concat = \"/content/drive/MyDrive/dataset/val/\"\n",
        "\n",
        "val_data_copy.iloc[:, 0:2] = string_to_concat + val_data_copy.iloc[:, 0:2].astype(str)\n",
        "\n",
        "val_features = extract_features(net,val_data_copy)\n"
      ]
    },
    {
      "cell_type": "code",
      "source": [
        "train_features=np.array(train_features)\n",
        "val_features=np.array(val_features)"
      ],
      "metadata": {
        "id": "slboMi_l9W2P"
      },
      "execution_count": 19,
      "outputs": []
    },
    {
      "cell_type": "code",
      "source": [
        "np.array(val_features).shape"
      ],
      "metadata": {
        "id": "PkveJimY3ay7",
        "colab": {
          "base_uri": "https://localhost:8080/"
        },
        "outputId": "f6e39eb1-a747-4020-ab6e-31d9ed42c68f"
      },
      "execution_count": 20,
      "outputs": [
        {
          "output_type": "execute_result",
          "data": {
            "text/plain": [
              "(5770, 2, 1, 128)"
            ]
          },
          "metadata": {},
          "execution_count": 20
        }
      ]
    },
    {
      "cell_type": "code",
      "source": [
        "val_labels = np.asarray(val_data['label'])"
      ],
      "metadata": {
        "id": "PnnjkC6_0vgP"
      },
      "execution_count": 21,
      "outputs": []
    },
    {
      "cell_type": "code",
      "source": [
        "train_features_reshaped = np.squeeze(train_features)\n",
        "print(train_features_reshaped.shape)  # (5770, 2, 1, 128)\n",
        "\n",
        "# Reshape the trainidation features to (5770, 2, 128)\n",
        "train_features_reshaped = np.reshape(train_features_reshaped, train_features.shape)\n",
        "\n",
        "# Flatten the array trainues within each sample\n",
        "train_features_flattened = np.reshape(train_features_reshaped, (train_features.shape[0], -1))\n",
        "train_features_flattened.shape"
      ],
      "metadata": {
        "id": "kRI_Lp1k89-h",
        "colab": {
          "base_uri": "https://localhost:8080/"
        },
        "outputId": "4aaa5b18-ab12-4c24-f6e4-3c4014ad760e"
      },
      "execution_count": 22,
      "outputs": [
        {
          "output_type": "stream",
          "name": "stdout",
          "text": [
            "(1600, 2, 128)\n"
          ]
        },
        {
          "output_type": "execute_result",
          "data": {
            "text/plain": [
              "(1600, 256)"
            ]
          },
          "metadata": {},
          "execution_count": 22
        }
      ]
    },
    {
      "cell_type": "code",
      "source": [
        "val_features_reshaped = np.squeeze(val_features)\n",
        "print(val_features_reshaped.shape)  # (5770, 2, 1, 128)\n",
        "\n",
        "# Reshape the validation features to (5770, 2, 128)\n",
        "val_features_reshaped = np.reshape(val_features_reshaped, val_features.shape)\n",
        "\n",
        "# Flatten the array values within each sample\n",
        "val_features_flattened = np.reshape(val_features_reshaped, (val_features.shape[0], -1))\n",
        "val_features_flattened.shape"
      ],
      "metadata": {
        "id": "qdwDQ8qM8D-R",
        "colab": {
          "base_uri": "https://localhost:8080/"
        },
        "outputId": "c0841395-54fa-4cee-80dd-91ca99384ec8"
      },
      "execution_count": 23,
      "outputs": [
        {
          "output_type": "stream",
          "name": "stdout",
          "text": [
            "(5770, 2, 128)\n"
          ]
        },
        {
          "output_type": "execute_result",
          "data": {
            "text/plain": [
              "(5770, 256)"
            ]
          },
          "metadata": {},
          "execution_count": 23
        }
      ]
    },
    {
      "cell_type": "markdown",
      "source": [
        "# Classification using KNN"
      ],
      "metadata": {
        "id": "X4xX6nI2kiJ9"
      }
    },
    {
      "cell_type": "code",
      "source": [
        "def knn_fit(train_features, train_labels,k):\n",
        "    knn = KNeighborsClassifier(n_neighbors=k, metric='euclidean')\n",
        "    knn.fit(train_features, train_labels)\n",
        "    joblib.dump(knn, '/content/drive/MyDrive/dataset/knn_model.pkl')\n"
      ],
      "metadata": {
        "id": "mtvxaPMINOJu"
      },
      "execution_count": 38,
      "outputs": []
    },
    {
      "cell_type": "code",
      "execution_count": 39,
      "metadata": {
        "id": "CHGhTsLpv47K"
      },
      "outputs": [],
      "source": [
        "def knn_predict(test_features):\n",
        "    knn = joblib.load('/content/drive/MyDrive/dataset/knn_model.pkl')\n",
        "    predicted_labels = knn.predict(test_features)\n",
        "    probabilities = knn.predict_proba(test_features)[:,1]\n",
        "    return predicted_labels, probabilities\n"
      ]
    },
    {
      "cell_type": "code",
      "source": [
        "knn_fit(np.array(train_features_flattened), np.array(train_labels),100)"
      ],
      "metadata": {
        "id": "AFc8vhUGN0nM"
      },
      "execution_count": 40,
      "outputs": []
    },
    {
      "cell_type": "code",
      "source": [
        "predicted_labels1, probabilities1 = knn_predict( np.array(val_features_flattened))"
      ],
      "metadata": {
        "id": "LiGQGAFA0jYK"
      },
      "execution_count": 41,
      "outputs": []
    },
    {
      "cell_type": "code",
      "source": [
        "f1_knn = f1_score(val_labels, predicted_labels1)\n",
        "auc_knn = roc_auc_score(val_labels, probabilities1)\n",
        "acc_knn = accuracy_score(val_labels, predicted_labels1)\n",
        "\n",
        "print(\"F1 Score:\", f1_knn)\n",
        "print(\"AUC:\", auc_knn)\n",
        "print(\"Accuracy\",acc_knn)"
      ],
      "metadata": {
        "colab": {
          "base_uri": "https://localhost:8080/"
        },
        "id": "UBUrzVZV1Ok7",
        "outputId": "8e1d7ab2-1dc2-4fc0-c200-9eba8a0ffcc4"
      },
      "execution_count": 42,
      "outputs": [
        {
          "output_type": "stream",
          "name": "stdout",
          "text": [
            "F1 Score: 0.6981194325305179\n",
            "AUC: 0.7553921707030627\n",
            "Accuracy 0.682842287694974\n"
          ]
        }
      ]
    },
    {
      "cell_type": "markdown",
      "source": [
        "# Classification using SVC"
      ],
      "metadata": {
        "id": "M3dxTLMNkq2N"
      }
    },
    {
      "cell_type": "code",
      "source": [
        "def perform_svc_classification(train_features, train_labels, test_features, kernel='rbf'):\n",
        "  svm = SVC(kernel = kernel, probability = True)\n",
        "  svm.fit(train_features, train_labels)\n",
        "  predicted_labels = svm.predict(test_features)\n",
        "  probabilities = svm.predict_proba(test_features)[:,1]\n",
        "  return predicted_labels, probabilities"
      ],
      "metadata": {
        "id": "UE47UEpMmdx-"
      },
      "execution_count": 43,
      "outputs": []
    },
    {
      "cell_type": "code",
      "source": [
        "predicted_labels2, probabilities2 = perform_svc_classification(np.array(train_features_flattened), np.array(train_labels), np.array(val_features_flattened))"
      ],
      "metadata": {
        "id": "aUeM1I_8n53Q"
      },
      "execution_count": 44,
      "outputs": []
    },
    {
      "cell_type": "code",
      "source": [
        "f1_svc = f1_score(val_labels, predicted_labels2)\n",
        "auc_svc = roc_auc_score(val_labels, probabilities2)\n",
        "acc_svc = accuracy_score(val_labels, predicted_labels2)\n",
        "\n",
        "print(\"F1 Score:\", f1_svc)\n",
        "print(\"AUC:\", auc_svc)\n",
        "print(\"Accuracy\",acc_svc)"
      ],
      "metadata": {
        "colab": {
          "base_uri": "https://localhost:8080/"
        },
        "id": "GfUNhccBoHQ8",
        "outputId": "31e0a1e5-3bb7-4745-f4de-0dbe90e250b3"
      },
      "execution_count": 45,
      "outputs": [
        {
          "output_type": "stream",
          "name": "stdout",
          "text": [
            "F1 Score: 0.6932270916334662\n",
            "AUC: 0.7445455337324174\n",
            "Accuracy 0.6797227036395147\n"
          ]
        }
      ]
    },
    {
      "cell_type": "markdown",
      "source": [
        "# Classification using Adaboost with base estimator as Gradient Boosting Classifier"
      ],
      "metadata": {
        "id": "TtFZdVqukzcd"
      }
    },
    {
      "cell_type": "code",
      "source": [
        "base_estimator = GradientBoostingClassifier(n_estimators=100, learning_rate=0.1)\n",
        "adaboost = AdaBoostClassifier(estimator=base_estimator, n_estimators=50, learning_rate=1.0)\n",
        "adaboost.fit(train_features_flattened, train_labels)\n",
        "predicted_labels3 = adaboost.predict(val_features_flattened)\n",
        "probabilities3 = adaboost.predict_proba(val_features_flattened)[:,1]\n"
      ],
      "metadata": {
        "id": "fxLrgMkebhh1"
      },
      "execution_count": 46,
      "outputs": []
    },
    {
      "cell_type": "code",
      "source": [
        "f1_gb = f1_score(val_labels, predicted_labels3)\n",
        "auc_gb = roc_auc_score(val_labels, probabilities3)\n",
        "acc_gb = accuracy_score(val_labels, predicted_labels3)\n",
        "\n",
        "print(\"F1 Score:\", f1_gb)\n",
        "print(\"AUC:\", auc_gb)\n",
        "print(\"Accuracy\",acc_gb)"
      ],
      "metadata": {
        "colab": {
          "base_uri": "https://localhost:8080/"
        },
        "id": "piyXe2MOcKsQ",
        "outputId": "c95535f1-19d0-4da2-d559-1cfd578ce96d"
      },
      "execution_count": 47,
      "outputs": [
        {
          "output_type": "stream",
          "name": "stdout",
          "text": [
            "F1 Score: 0.6564192139737991\n",
            "AUC: 0.7317231001204461\n",
            "Accuracy 0.6590987868284228\n"
          ]
        }
      ]
    },
    {
      "cell_type": "markdown",
      "source": [
        "# Classification using combined results of above classifiers (similar to ensemble method)"
      ],
      "metadata": {
        "id": "XFhxmNAvlB-l"
      }
    },
    {
      "cell_type": "code",
      "source": [
        "final_proba=[]\n",
        "final_label=[]\n",
        "for i in range(len(probabilities2)):\n",
        "  proba = max(probabilities1[i],probabilities2[i],probabilities3[i])\n",
        "  final_proba.append(proba)\n",
        "  if proba > 0.5:\n",
        "    final_label.append(1)\n",
        "  else:\n",
        "    final_label.append(0)"
      ],
      "metadata": {
        "id": "uAhu_tMms7u1"
      },
      "execution_count": 48,
      "outputs": []
    },
    {
      "cell_type": "code",
      "source": [
        "f1_ensemble = f1_score(val_labels, final_label)\n",
        "auc_ensemble = roc_auc_score(val_labels, final_proba)\n",
        "acc_ensemble = accuracy_score(val_labels, final_label)\n",
        "\n",
        "# Print the F1 score and AUC\n",
        "print(\"F1 Score:\", f1_ensemble)\n",
        "print(\"AUC:\", auc_ensemble)\n",
        "print(\"Accuracy\",acc_ensemble)"
      ],
      "metadata": {
        "colab": {
          "base_uri": "https://localhost:8080/"
        },
        "id": "685tHAa6vJdu",
        "outputId": "ecca754c-1805-4895-fe26-1c4c6ff66f3d"
      },
      "execution_count": 49,
      "outputs": [
        {
          "output_type": "stream",
          "name": "stdout",
          "text": [
            "F1 Score: 0.7170271093512031\n",
            "AUC: 0.7497909764544393\n",
            "Accuracy 0.6779896013864818\n"
          ]
        }
      ]
    },
    {
      "cell_type": "markdown",
      "source": [
        "# Comparison Graph"
      ],
      "metadata": {
        "id": "A8Q5Fkn5lZev"
      }
    },
    {
      "cell_type": "code",
      "source": [
        "# Sample data\n",
        "x = ['KNN','SVC','Adaboost','Ensemble']\n",
        "y = [auc_knn,auc_svc,auc_gb,auc_ensemble]\n",
        "\n",
        "# Create bar plot\n",
        "plt.plot(x, y, marker='o')\n",
        "\n",
        "# Add labels and title\n",
        "plt.xlabel('Methods')\n",
        "plt.ylabel('AUC_Score')\n",
        "plt.title('AUC_Score Bar Plot')\n",
        "\n",
        "# Display the plot\n",
        "plt.show()\n",
        "\n",
        "\n",
        "# Sample data\n",
        "x = ['KNN','SVC','Adaboost','Ensemble']\n",
        "y = [f1_knn,f1_svc,f1_gb,f1_ensemble]\n",
        "\n",
        "# Create bar plot\n",
        "plt.plot(x, y, marker='o')\n",
        "\n",
        "# Add labels and title\n",
        "plt.xlabel('Methods')\n",
        "plt.ylabel('F1 Score')\n",
        "plt.title('F1 Score Bar Plot')\n",
        "\n",
        "# Display the plot\n",
        "plt.show()"
      ],
      "metadata": {
        "colab": {
          "base_uri": "https://localhost:8080/",
          "height": 927
        },
        "id": "3VS9W9OKi_fl",
        "outputId": "70f9a5ff-12cb-4c48-f30b-6f86c3447f03"
      },
      "execution_count": 50,
      "outputs": [
        {
          "output_type": "display_data",
          "data": {
            "text/plain": [
              "<Figure size 640x480 with 1 Axes>"
            ],
            "image/png": "[encoded data removed]"
          },
          "metadata": {}
        },
        {
          "output_type": "display_data",
          "data": {
            "text/plain": [
              "<Figure size 640x480 with 1 Axes>"
            ],
            "image/png": "[encoded data removed]"
          },
          "metadata": {}
        }
      ]
    },
    {
      "cell_type": "markdown",
      "source": [
        "Best AUC with KNN"
      ],
      "metadata": {
        "id": "HiMWBwz9nCrb"
      }
    },
    {
      "cell_type": "markdown",
      "source": [
        "# Testing"
      ],
      "metadata": {
        "id": "rQ2W0GlDlfwF"
      }
    },
    {
      "cell_type": "code",
      "source": [
        "test_data=pd.read_csv(\"/content/drive/MyDrive/dataset/test.csv\")\n",
        "test_data_copy = test_data.copy()\n",
        "\n",
        "string_to_concat = \"/content/drive/MyDrive/dataset/semi_test/\"\n",
        "\n",
        "test_data_copy.iloc[:, 0:2] = string_to_concat + test_data_copy.iloc[:, 0:2].astype(str)\n",
        "\n",
        "test_features = extract_features(net,test_data_copy)\n"
      ],
      "metadata": {
        "id": "XgBeuuvNmsrt"
      },
      "execution_count": 53,
      "outputs": []
    },
    {
      "cell_type": "code",
      "source": [
        "test_features=np.array(test_features)"
      ],
      "metadata": {
        "id": "SzEQeEzSrph8"
      },
      "execution_count": 54,
      "outputs": []
    },
    {
      "cell_type": "code",
      "source": [
        "test_features_reshaped = np.squeeze(test_features)\n",
        "print(test_features_reshaped.shape)\n",
        "\n",
        "test_features_reshaped = np.reshape(test_features_reshaped, test_features.shape)\n",
        "\n",
        "test_features_flattened = np.reshape(test_features_reshaped, (test_features.shape[0], -1))\n",
        "test_features_flattened.shape"
      ],
      "metadata": {
        "colab": {
          "base_uri": "https://localhost:8080/"
        },
        "id": "jHaHcnmPniT6",
        "outputId": "b50f5a3f-cc28-4dfa-862f-9768ee5c9250"
      },
      "execution_count": 55,
      "outputs": [
        {
          "output_type": "stream",
          "name": "stdout",
          "text": [
            "(10586, 2, 128)\n"
          ]
        },
        {
          "output_type": "execute_result",
          "data": {
            "text/plain": [
              "(10586, 256)"
            ]
          },
          "metadata": {},
          "execution_count": 55
        }
      ]
    },
    {
      "cell_type": "code",
      "source": [
        "predicted_test_labels, test_probabilities = knn_predict(np.array(test_features_flattened))"
      ],
      "metadata": {
        "id": "RsvoGiUunRzF"
      },
      "execution_count": 56,
      "outputs": []
    },
    {
      "cell_type": "code",
      "source": [
        "test_probabilities"
      ],
      "metadata": {
        "colab": {
          "base_uri": "https://localhost:8080/"
        },
        "id": "ObmAYeOZrxwc",
        "outputId": "cab69abc-3ef4-42e3-efea-79833ec0a328"
      },
      "execution_count": 57,
      "outputs": [
        {
          "output_type": "execute_result",
          "data": {
            "text/plain": [
              "array([0.91, 0.37, 0.46, ..., 0.42, 0.88, 0.  ])"
            ]
          },
          "metadata": {},
          "execution_count": 57
        }
      ]
    },
    {
      "cell_type": "code",
      "source": [
        "submission = pd.DataFrame()\n",
        "submission['id'] = test_data['img1_name']+'_'+test_data['img2_name']\n",
        "submission['proba'] = test_probabilities\n",
        "submission.to_csv('/content/drive/MyDrive/dataset/SSWrites_Semi_final_Submission.csv', index=False)"
      ],
      "metadata": {
        "id": "X6L4DoWmr9uI"
      },
      "execution_count": null,
      "outputs": []
    },
    {
      "cell_type": "code",
      "source": [
        "submission.shape"
      ],
      "metadata": {
        "colab": {
          "base_uri": "https://localhost:8080/"
        },
        "id": "6uUx8Wl1x-tj",
        "outputId": "cc63a43a-afe4-47f4-9f6b-17573b8d9ab2"
      },
      "execution_count": null,
      "outputs": [
        {
          "output_type": "execute_result",
          "data": {
            "text/plain": [
              "(10586, 2)"
            ]
          },
          "metadata": {},
          "execution_count": 90
        }
      ]
    }
  ]
}